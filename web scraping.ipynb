{
 "cells": [
  {
   "cell_type": "code",
   "execution_count": 67,
   "id": "300ffa1d-4ebb-47f8-bc57-f0435f2cf91d",
   "metadata": {},
   "outputs": [],
   "source": [
    "import requests\n",
    "from bs4 import BeautifulSoup as bs\n",
    "from urllib.request import urlopen as uReq\n",
    "import logging"
   ]
  },
  {
   "cell_type": "code",
   "execution_count": 68,
   "id": "230d3db8-ad2c-4f34-aabc-af2d2f38a1b8",
   "metadata": {},
   "outputs": [],
   "source": [
    "flipkart_url=\"https://www.flipkart.com/search?q=\" + \"iphone11\""
   ]
  },
  {
   "cell_type": "code",
   "execution_count": null,
   "id": "4e15bcea-3420-4815-a39f-ccfd17ccd0cf",
   "metadata": {},
   "outputs": [],
   "source": [
    "flipkart_url"
   ]
  },
  {
   "cell_type": "code",
   "execution_count": 69,
   "id": "5191bb3f-4689-429b-8f91-0ccb41508c54",
   "metadata": {},
   "outputs": [],
   "source": [
    "url_client= uReq(flipkart_url)"
   ]
  },
  {
   "cell_type": "code",
   "execution_count": 70,
   "id": "e08781c3-e886-4d93-9390-693a3af07136",
   "metadata": {},
   "outputs": [
    {
     "data": {
      "text/plain": [
       "<http.client.HTTPResponse at 0x7fc936217a00>"
      ]
     },
     "execution_count": 70,
     "metadata": {},
     "output_type": "execute_result"
    }
   ],
   "source": [
    "url_client"
   ]
  },
  {
   "cell_type": "code",
   "execution_count": 71,
   "id": "ec54ff77-b9dc-4cf2-b988-591e59ccd25d",
   "metadata": {},
   "outputs": [],
   "source": [
    "flipcart_page = url_client.read()"
   ]
  },
  {
   "cell_type": "code",
   "execution_count": 72,
   "id": "ab4da33b-7491-4111-bda7-e1094e2f3ce3",
   "metadata": {},
   "outputs": [],
   "source": [
    "flipart_html=bs(flipcart_page,'html.parser')"
   ]
  },
  {
   "cell_type": "code",
   "execution_count": 73,
   "id": "4e47eaca-2e5a-474c-a50b-6a8ad72e8e5f",
   "metadata": {},
   "outputs": [
    {
     "ename": "NameError",
     "evalue": "name 'flipcart_pages' is not defined",
     "output_type": "error",
     "traceback": [
      "\u001b[0;31m---------------------------------------------------------------------------\u001b[0m",
      "\u001b[0;31mNameError\u001b[0m                                 Traceback (most recent call last)",
      "Cell \u001b[0;32mIn[73], line 1\u001b[0m\n\u001b[0;32m----> 1\u001b[0m \u001b[43mflipcart_pages\u001b[49m\n",
      "\u001b[0;31mNameError\u001b[0m: name 'flipcart_pages' is not defined"
     ]
    }
   ],
   "source": [
    "flipcart_pages"
   ]
  },
  {
   "cell_type": "code",
   "execution_count": null,
   "id": "ccfde2a3-b5e0-4f80-966e-63af1e6a73eb",
   "metadata": {},
   "outputs": [],
   "source": [
    "\"https://www.flipkart.com/\"+\"apple-iphone-11-white-128-gb/p/itme32df47ea6742?pid=MOBFWQ6B7KKRXDDS&lid=LSTMOBFWQ6B7KKRXDDSULUZ0N&marketplace=FLIPKART&q=apple+11&store=tyy%2F4io&srno=s_1_1&otracker=search&otracker1=search&fm=organic&iid=e150ef87-eedc-41ce-b42d-b94026f6bcc9.MOBFWQ6B7KKRXDDS.SEARCH&ppt=hp&ppn=homepage&ssid=n929d0f59s0000001676993075246&qH=c708fadc1c822697\""
   ]
  },
  {
   "cell_type": "code",
   "execution_count": null,
   "id": "5658a7e5-6bbe-4185-99d9-3ff518f18e90",
   "metadata": {},
   "outputs": [],
   "source": [
    "flipart_html"
   ]
  },
  {
   "cell_type": "code",
   "execution_count": null,
   "id": "d4f3139e-b533-4de2-a539-0634ad5c73bd",
   "metadata": {},
   "outputs": [],
   "source": [
    "bigbox=flipcart_html.find(\"div\",{\"class\":\"_2kHMtA col-12-12\"})\n"
   ]
  },
  {
   "cell_type": "code",
   "execution_count": null,
   "id": "770ca26c-7c3c-4a14-bcc6-1ca80d62a7f6",
   "metadata": {},
   "outputs": [],
   "source": []
  },
  {
   "cell_type": "code",
   "execution_count": 34,
   "id": "8e9ed5c0-b97a-4ed3-bceb-463737f79a10",
   "metadata": {},
   "outputs": [],
   "source": [
    "import requests\n",
    "from bs4 import BeautifulSoup as bs\n",
    "from urllib.request import urlopen as uReq\n",
    "import logging"
   ]
  },
  {
   "cell_type": "code",
   "execution_count": null,
   "id": "b0a0c232-8ed9-4cf7-962b-0e9a8b948093",
   "metadata": {},
   "outputs": [],
   "source": [
    "flipkart_url=\"https://www.flipkart.com/search?q=\" +\"apple11\""
   ]
  },
  {
   "cell_type": "code",
   "execution_count": 6,
   "id": "cc165b40-38fe-433b-ae9a-5105ef5eb870",
   "metadata": {},
   "outputs": [
    {
     "data": {
      "text/plain": [
       "'https://www.flipkart.com/search?q=apple11'"
      ]
     },
     "execution_count": 6,
     "metadata": {},
     "output_type": "execute_result"
    }
   ],
   "source": [
    "flipkart_url"
   ]
  },
  {
   "cell_type": "code",
   "execution_count": 35,
   "id": "a5c26d0a-c9ab-40bd-9d67-cd6103f6b7e6",
   "metadata": {},
   "outputs": [],
   "source": [
    "url_client=uReq(flipkart_url)"
   ]
  },
  {
   "cell_type": "code",
   "execution_count": 36,
   "id": "076f93e3-3fd9-44d6-a273-c75ea6444cb3",
   "metadata": {},
   "outputs": [],
   "source": [
    "flipkart_page=url_client"
   ]
  },
  {
   "cell_type": "code",
   "execution_count": null,
   "id": "f07da0b1-2c2d-4dc4-bbcf-d3d53482ae4f",
   "metadata": {},
   "outputs": [],
   "source": [
    "flipkart_page.read("
   ]
  },
  {
   "cell_type": "code",
   "execution_count": 37,
   "id": "7d5cb906-9998-402a-bed6-7dfeae6a4021",
   "metadata": {},
   "outputs": [
    {
     "data": {
      "text/plain": [
       "<http.client.HTTPResponse at 0x7fc936431960>"
      ]
     },
     "execution_count": 37,
     "metadata": {},
     "output_type": "execute_result"
    }
   ],
   "source": [
    "flipkart_page\n"
   ]
  },
  {
   "cell_type": "code",
   "execution_count": 75,
   "id": "066ae4db-679e-421a-8602-5c504857e4b6",
   "metadata": {},
   "outputs": [],
   "source": [
    "flipkart_html=bs(flipkart_page,\"html.parser\")"
   ]
  },
  {
   "cell_type": "code",
   "execution_count": 39,
   "id": "d3cf9d67-7bc7-41d3-9edf-5982a7450446",
   "metadata": {},
   "outputs": [
    {
     "data": {
      "text/plain": [
       "'https://www.flipkart.com/apple-iphone-11-black-64-gb/p/itm4e5041ba101fd?pid=MOBFWQ6BXGJCEYNY&lid=LSTMOBFWQ6BXGJCEYNYZXSHRJ&marketplace=FLIPKART&q=apple+11&store=tyy%2F4io&srno=s_1_4&otracker=search&otracker1=search&fm=organic&iid=1bdde5c3-6fdd-4597-8525-7b94ebbce4a7.MOBFWQ6BXGJCEYNY.SEARCH&ppt=hp&ppn=homepage&ssid=yujazj20g00000001677046294124&qH=c708fadc1c822697'"
      ]
     },
     "execution_count": 39,
     "metadata": {},
     "output_type": "execute_result"
    }
   ],
   "source": [
    "\"https://www.flipkart.com/apple-iphone-11-black-64-gb/p/itm4e5041ba101fd?pid=MOBFWQ6BXGJCEYNY&lid=LSTMOBFWQ6BXGJCEYNYZXSHRJ&marketplace=FLIPKART&q=apple+11&store=tyy%2F4io&srno=s_1_4&otracker=search&otracker1=search&fm=organic&iid=1bdde5c3-6fdd-4597-8525-7b94ebbce4a7.MOBFWQ6BXGJCEYNY.SEARCH&ppt=hp&ppn=homepage&ssid=yujazj20g00000001677046294124&qH=c708fadc1c822697\""
   ]
  },
  {
   "cell_type": "code",
   "execution_count": 40,
   "id": "c636b3ee-1ed3-442e-8cf0-fbc6fed35ff4",
   "metadata": {},
   "outputs": [],
   "source": [
    "bigbox=flipkart_html.findAll(\"div\", {\"class\":\"_1AtVbE col-12-12\"})"
   ]
  },
  {
   "cell_type": "code",
   "execution_count": 41,
   "id": "1da3a6af-f8dc-4971-a65d-be3e62bac2a8",
   "metadata": {},
   "outputs": [
    {
     "data": {
      "text/plain": [
       "30"
      ]
     },
     "execution_count": 41,
     "metadata": {},
     "output_type": "execute_result"
    }
   ],
   "source": [
    "len(bigbox)"
   ]
  },
  {
   "cell_type": "code",
   "execution_count": 42,
   "id": "1f4a0b83-d5f7-4c84-a0a1-29663d25d74c",
   "metadata": {},
   "outputs": [],
   "source": [
    "del bigbox[0:3]"
   ]
  },
  {
   "cell_type": "code",
   "execution_count": 43,
   "id": "b44edeff-4eb4-4543-92c1-b0fb904893b6",
   "metadata": {},
   "outputs": [],
   "source": [
    "product_link=\"https://www.flipkart.com\" +bigbox[2].div.div.div.a['href']"
   ]
  },
  {
   "cell_type": "code",
   "execution_count": 44,
   "id": "02152afd-d2eb-497d-a9af-5b899c44e9c0",
   "metadata": {},
   "outputs": [],
   "source": [
    "product_req=requests.get(product_link)\n"
   ]
  },
  {
   "cell_type": "code",
   "execution_count": 45,
   "id": "d6f9a43a-bb7c-4d7a-9db5-2c9af0ac0845",
   "metadata": {},
   "outputs": [
    {
     "data": {
      "text/plain": [
       "<Response [200]>"
      ]
     },
     "execution_count": 45,
     "metadata": {},
     "output_type": "execute_result"
    }
   ],
   "source": [
    "product_req"
   ]
  },
  {
   "cell_type": "code",
   "execution_count": 46,
   "id": "76719a41-1a86-4601-abb1-5704255c819a",
   "metadata": {},
   "outputs": [
    {
     "data": {
      "text/plain": [
       "'https://www.flipkart.com/apple-iphone-11-black-128-gb/p/itm8244e8d955aba?pid=MOBFWQ6BKRYBP5X8&lid=LSTMOBFWQ6BKRYBP5X8IBG6BS&marketplace=FLIPKART&q=apple11&store=tyy%2F4io&srno=s_1_4&otracker=search&fm=organic&iid=ac0e9ea1-e0d8-4ece-9d2f-85aae554485d.MOBFWQ6BKRYBP5X8.SEARCH&ppt=None&ppn=None&ssid=73yk4xpoz40000001677060726784&qH=05f90d7e1fe7b72c'"
      ]
     },
     "execution_count": 46,
     "metadata": {},
     "output_type": "execute_result"
    }
   ],
   "source": [
    "product_link"
   ]
  },
  {
   "cell_type": "code",
   "execution_count": 17,
   "id": "1d28d0f4-e899-4050-8473-1f7cb2adae48",
   "metadata": {},
   "outputs": [],
   "source": [
    "product_html=bs(product_req.text,\"html.parser\")"
   ]
  },
  {
   "cell_type": "code",
   "execution_count": 47,
   "id": "37daa5ce-43c0-428c-9195-6a7e71e5f0ef",
   "metadata": {},
   "outputs": [],
   "source": [
    "comments_box=product_html.findAll('div',{'class':'_16PBlm'})"
   ]
  },
  {
   "cell_type": "code",
   "execution_count": 48,
   "id": "0001588f-05c7-42f8-a2e4-0ff4e54810f6",
   "metadata": {},
   "outputs": [
    {
     "data": {
      "text/plain": [
       "11"
      ]
     },
     "execution_count": 48,
     "metadata": {},
     "output_type": "execute_result"
    }
   ],
   "source": [
    "len(comments_box)"
   ]
  },
  {
   "cell_type": "code",
   "execution_count": 49,
   "id": "6b3f135d-bc44-47dc-af22-270f30132c23",
   "metadata": {},
   "outputs": [
    {
     "name": "stdout",
     "output_type": "stream",
     "text": [
      "[<p class=\"_2sc7ZR _2V5EHH\">Flipkart Customer</p>]\n",
      "[<p class=\"_2sc7ZR _2V5EHH\">Flipkart Customer</p>]\n",
      "[<p class=\"_2sc7ZR _2V5EHH\">Manish Raghuvanshi</p>]\n",
      "[<p class=\"_2sc7ZR _2V5EHH\">George Haokip</p>]\n",
      "[<p class=\"_2sc7ZR _2V5EHH\">Jimly  Gogoi</p>]\n",
      "[<p class=\"_2sc7ZR _2V5EHH\">Vamshi  Chakrala </p>]\n",
      "[<p class=\"_2sc7ZR _2V5EHH\">Chirag Rajput</p>]\n",
      "[<p class=\"_2sc7ZR _2V5EHH\">Vishal Dubey</p>]\n",
      "[<p class=\"_2sc7ZR _2V5EHH\">vijay hegde</p>]\n",
      "[<p class=\"_2sc7ZR _2V5EHH\">Rahul Verma</p>]\n"
     ]
    },
    {
     "ename": "AttributeError",
     "evalue": "'NoneType' object has no attribute 'div'",
     "output_type": "error",
     "traceback": [
      "\u001b[0;31m---------------------------------------------------------------------------\u001b[0m",
      "\u001b[0;31mAttributeError\u001b[0m                            Traceback (most recent call last)",
      "Cell \u001b[0;32mIn[49], line 3\u001b[0m\n\u001b[1;32m      1\u001b[0m \u001b[38;5;28;01mfor\u001b[39;00m i \u001b[38;5;129;01min\u001b[39;00m comments_box:\n\u001b[0;32m----> 3\u001b[0m      \u001b[38;5;28mprint\u001b[39m(\u001b[43mi\u001b[49m\u001b[38;5;241;43m.\u001b[39;49m\u001b[43mdiv\u001b[49m\u001b[38;5;241;43m.\u001b[39;49m\u001b[43mdiv\u001b[49m\u001b[38;5;241m.\u001b[39mfind_all(\u001b[38;5;124m'\u001b[39m\u001b[38;5;124mp\u001b[39m\u001b[38;5;124m'\u001b[39m,{\u001b[38;5;124m\"\u001b[39m\u001b[38;5;124mclass\u001b[39m\u001b[38;5;124m\"\u001b[39m:\u001b[38;5;124m\"\u001b[39m\u001b[38;5;124m_2sc7ZR _2V5EHH\u001b[39m\u001b[38;5;124m\"\u001b[39m}))\n",
      "\u001b[0;31mAttributeError\u001b[0m: 'NoneType' object has no attribute 'div'"
     ]
    }
   ],
   "source": [
    "for i in comments_box:\n",
    "   \n",
    "     print(i.div.div.find_all('p',{\"class\":\"_2sc7ZR _2V5EHH\"}))"
   ]
  },
  {
   "cell_type": "code",
   "execution_count": 52,
   "id": "e1c3055f-727c-4e0a-a504-a5d61d629b23",
   "metadata": {},
   "outputs": [
    {
     "name": "stdout",
     "output_type": "stream",
     "text": [
      "5\n",
      "5\n",
      "5\n",
      "4\n",
      "5\n",
      "5\n",
      "5\n",
      "5\n",
      "4\n",
      "5\n"
     ]
    },
    {
     "ename": "AttributeError",
     "evalue": "'NoneType' object has no attribute 'div'",
     "output_type": "error",
     "traceback": [
      "\u001b[0;31m---------------------------------------------------------------------------\u001b[0m",
      "\u001b[0;31mAttributeError\u001b[0m                            Traceback (most recent call last)",
      "Cell \u001b[0;32mIn[52], line 4\u001b[0m\n\u001b[1;32m      1\u001b[0m \u001b[38;5;28;01mfor\u001b[39;00m i \u001b[38;5;129;01min\u001b[39;00m comments_box:\n\u001b[0;32m----> 4\u001b[0m     \u001b[38;5;28mprint\u001b[39m(\u001b[43mi\u001b[49m\u001b[38;5;241;43m.\u001b[39;49m\u001b[43mdiv\u001b[49m\u001b[38;5;241;43m.\u001b[39;49m\u001b[43mdiv\u001b[49m\u001b[38;5;241m.\u001b[39mdiv\u001b[38;5;241m.\u001b[39mdiv\u001b[38;5;241m.\u001b[39mtext)\n",
      "\u001b[0;31mAttributeError\u001b[0m: 'NoneType' object has no attribute 'div'"
     ]
    }
   ],
   "source": [
    "for i in comments_box:\n",
    "    \n",
    "    \n",
    "    print(i.div.div.div.div.text)"
   ]
  },
  {
   "cell_type": "code",
   "execution_count": 56,
   "id": "934e126e-9a0f-49ab-a39c-77a293da2c20",
   "metadata": {},
   "outputs": [
    {
     "name": "stdout",
     "output_type": "stream",
     "text": [
      "Simply awesome\n",
      "Perfect product!\n",
      "Best in the market!\n",
      "Value-for-money\n",
      "Highly recommended\n",
      "Worth every penny\n",
      "Perfect product!\n",
      "Highly recommended\n",
      "Pretty good\n",
      "Great product\n"
     ]
    },
    {
     "ename": "AttributeError",
     "evalue": "'NoneType' object has no attribute 'div'",
     "output_type": "error",
     "traceback": [
      "\u001b[0;31m---------------------------------------------------------------------------\u001b[0m",
      "\u001b[0;31mAttributeError\u001b[0m                            Traceback (most recent call last)",
      "Cell \u001b[0;32mIn[56], line 3\u001b[0m\n\u001b[1;32m      1\u001b[0m \u001b[38;5;28;01mfor\u001b[39;00m i \u001b[38;5;129;01min\u001b[39;00m comments_box:\n\u001b[0;32m----> 3\u001b[0m     \u001b[38;5;28mprint\u001b[39m(\u001b[43mi\u001b[49m\u001b[38;5;241;43m.\u001b[39;49m\u001b[43mdiv\u001b[49m\u001b[38;5;241;43m.\u001b[39;49m\u001b[43mdiv\u001b[49m\u001b[38;5;241m.\u001b[39mdiv\u001b[38;5;241m.\u001b[39mp\u001b[38;5;241m.\u001b[39mtext)\n",
      "\u001b[0;31mAttributeError\u001b[0m: 'NoneType' object has no attribute 'div'"
     ]
    }
   ],
   "source": [
    "for i in comments_box:\n",
    "    \n",
    "    print(i.div.div.div.p.text)"
   ]
  },
  {
   "cell_type": "code",
   "execution_count": null,
   "id": "b017fa09-772b-42d1-9789-5a50a7aedd28",
   "metadata": {},
   "outputs": [],
   "source": []
  },
  {
   "cell_type": "code",
   "execution_count": 62,
   "id": "bda850f3-7a5d-4ab3-8160-26c3958c55fe",
   "metadata": {},
   "outputs": [
    {
     "data": {
      "text/plain": [
       "'Really satisfied with the Product I received... It’s totally genuine and the packaging was also really good so if ur planning to buy just go for it.'"
      ]
     },
     "execution_count": 62,
     "metadata": {},
     "output_type": "execute_result"
    }
   ],
   "source": [
    "comments_box[0].div.div.find_all('div',{'class':''})[0].div.text"
   ]
  },
  {
   "cell_type": "code",
   "execution_count": 65,
   "id": "bef6dca1-39e9-4265-80d5-15f33d098ec5",
   "metadata": {},
   "outputs": [
    {
     "name": "stdout",
     "output_type": "stream",
     "text": [
      "Really satisfied with the Product I received... It’s totally genuine and the packaging was also really good so if ur planning to buy just go for it.\n",
      "Amazing phone with great cameras and better battery which gives you the best performance. I just love the camera .\n",
      "Great iPhone very snappy experience as apple kind. Upgraded from iPhone 7. Pros-Camera top class - Battery top performed -Chipset no need to say as apple kind -Security as you expect from apple - Display super bright industry leading colour   accuracy and super responsive -Build quality as expect from apple sturdy  premium durable beautiful stylish. -Os most stable os in smartphone industry Cons -No 5G-Display is not based on OLED technology -Charger headphones and 1 apple stic...\n",
      "I'm Really happy with the productDelivery was fast as well..it was a gift for my sister and she loved it so much.\n",
      "It's my first time to use iOS phone and I am loving my upgradation 😍😍 I love the color, I love the assebility of the phone....I need to learn more about its functionality, but as far as I have seen, it's quite easy and it has a lot of functions to work on, specially if you are a content writer or a blogger you get a lot of content creation platforms and they are really amazing. This phone not only for good quality photography but a lot of other task too.😍💯\n",
      "Previously I was using one plus 3t it was a great phone And then I decided to upgrade I am stuck between Samsung s10 plus or iPhone 11 I have seen the specs and everything were good except the display it’s somewhere between 720-1080 and it’s not even an amoled it’s an LCD display But I decided to go with iPhone because I have never used an IOS device I have Been an android user from the past 9 years I ordered IPhone 11 (128gb) product redMy experience after using 3 weeks 1. The delivery ...\n",
      "Value for money5 star rating Excellent cameraBattery backup full day in single charge.Tougher and water resistant design, glossy back.The screen has excellent brightness and contrast.Apple A13 Bionic is the fastest smartphone chip on the planet.Excellent battery life, fast charging support.Stereo speakers with great quality.\n",
      "What a camera .....just awesome ..you can feel this iPhone just awesome . Good for gaming also ...try pubg in hd it’s just wow\n",
      "I was using Iphone 6s and also Oneplus 6t. Both mobiles were perfectly alright in Photos, gaming, and smooth interface . My 6s mobile getting battery issue. thought upgrade to 11. Really like this mobile of its Internal storage (compare to 6s) , camera and its touch feeling. Its a worth buying mobile for me.\n",
      "Amazing Powerful and Durable Gadget.I’m am very happy with the camera picture quality, Amazing face id unlocked in dark room, Strong battery with perfect screen size as you can carry easily in pocket. This is my third iPhone. I shifted from android Samsung Note series to iPhone because of the strong build quality and peace of mind for next 3-4 years.Don’t think to much just go for it and I suggest you to go for minimum 128gb variant or more 256gb. I’ve attached my puppy pics and no fi...\n"
     ]
    },
    {
     "ename": "AttributeError",
     "evalue": "'NoneType' object has no attribute 'div'",
     "output_type": "error",
     "traceback": [
      "\u001b[0;31m---------------------------------------------------------------------------\u001b[0m",
      "\u001b[0;31mAttributeError\u001b[0m                            Traceback (most recent call last)",
      "Cell \u001b[0;32mIn[65], line 2\u001b[0m\n\u001b[1;32m      1\u001b[0m \u001b[38;5;28;01mfor\u001b[39;00m i \u001b[38;5;129;01min\u001b[39;00m comments_box:\n\u001b[0;32m----> 2\u001b[0m     \u001b[38;5;28mprint\u001b[39m(\u001b[43mi\u001b[49m\u001b[38;5;241;43m.\u001b[39;49m\u001b[43mdiv\u001b[49m\u001b[38;5;241;43m.\u001b[39;49m\u001b[43mdiv\u001b[49m\u001b[38;5;241m.\u001b[39mfind_all(\u001b[38;5;124m'\u001b[39m\u001b[38;5;124mdiv\u001b[39m\u001b[38;5;124m'\u001b[39m,{\u001b[38;5;124m'\u001b[39m\u001b[38;5;124mclass\u001b[39m\u001b[38;5;124m'\u001b[39m:\u001b[38;5;124m'\u001b[39m\u001b[38;5;124m'\u001b[39m})[\u001b[38;5;241m0\u001b[39m]\u001b[38;5;241m.\u001b[39mdiv\u001b[38;5;241m.\u001b[39mtext)\n",
      "\u001b[0;31mAttributeError\u001b[0m: 'NoneType' object has no attribute 'div'"
     ]
    }
   ],
   "source": [
    "for i in comments_box:\n",
    "    print(i.div.div.find_all('div',{'class':''})[0].div.text)"
   ]
  },
  {
   "cell_type": "code",
   "execution_count": null,
   "id": "91db1412-0fda-4a5d-acbd-ee0a42f027c6",
   "metadata": {},
   "outputs": [],
   "source": []
  },
  {
   "cell_type": "code",
   "execution_count": 33,
   "id": "cdd01d1b-2ba7-4073-8429-2d4dcdc56786",
   "metadata": {},
   "outputs": [
    {
     "name": "stdout",
     "output_type": "stream",
     "text": [
      "https://www.flipkart.com/apple-iphone-11-white-64-gb/p/itmfc6a7091eb20b?pid=MOBFWQ6BVWVEH3XE&lid=LSTMOBFWQ6BVWVEH3XEMXQMLO&marketplace=FLIPKART&q=apple11&store=tyy%2F4io&srno=s_1_2&otracker=search&fm=organic&iid=54380175-e745-4a6c-903f-ec8b75e88663.MOBFWQ6BVWVEH3XE.SEARCH&ppt=None&ppn=None&ssid=3ybp6wqqvk0000001677050279003&qH=05f90d7e1fe7b72c\n",
      "https://www.flipkart.com/apple-iphone-11-black-64-gb/p/itm4e5041ba101fd?pid=MOBFWQ6BXGJCEYNY&lid=LSTMOBFWQ6BXGJCEYNYZXSHRJ&marketplace=FLIPKART&q=apple11&store=tyy%2F4io&srno=s_1_3&otracker=search&fm=organic&iid=54380175-e745-4a6c-903f-ec8b75e88663.MOBFWQ6BXGJCEYNY.SEARCH&ppt=None&ppn=None&ssid=3ybp6wqqvk0000001677050279003&qH=05f90d7e1fe7b72c\n",
      "https://www.flipkart.com/apple-iphone-11-black-128-gb/p/itm8244e8d955aba?pid=MOBFWQ6BKRYBP5X8&lid=LSTMOBFWQ6BKRYBP5X8IBG6BS&marketplace=FLIPKART&q=apple11&store=tyy%2F4io&srno=s_1_4&otracker=search&fm=organic&iid=54380175-e745-4a6c-903f-ec8b75e88663.MOBFWQ6BKRYBP5X8.SEARCH&ppt=None&ppn=None&ssid=3ybp6wqqvk0000001677050279003&qH=05f90d7e1fe7b72c\n",
      "https://www.flipkart.com/apple-iphone-11-red-128-gb/p/itm8d14bd0e33a1c?pid=MOBFWQ6BEZTNK59G&lid=LSTMOBFWQ6BEZTNK59G4PTPDM&marketplace=FLIPKART&q=apple11&store=tyy%2F4io&srno=s_1_5&otracker=search&fm=organic&iid=54380175-e745-4a6c-903f-ec8b75e88663.MOBFWQ6BEZTNK59G.SEARCH&ppt=None&ppn=None&ssid=3ybp6wqqvk0000001677050279003&qH=05f90d7e1fe7b72c\n",
      "https://www.flipkart.com/apple-iphone-11-red-64-gb/p/itmc3935326f2feb?pid=MOBFWQ6BYYV3FCU7&lid=LSTMOBFWQ6BYYV3FCU7ZCY7Y9&marketplace=FLIPKART&q=apple11&store=tyy%2F4io&srno=s_1_6&otracker=search&fm=organic&iid=54380175-e745-4a6c-903f-ec8b75e88663.MOBFWQ6BYYV3FCU7.SEARCH&ppt=None&ppn=None&ssid=3ybp6wqqvk0000001677050279003&qH=05f90d7e1fe7b72c\n",
      "https://www.flipkart.com/apple-iphone-11-green-64-gb/p/itm386a85013a3d1?pid=MOBFWQ6BHPMG29QM&lid=LSTMOBFWQ6BHPMG29QMSPPOYD&marketplace=FLIPKART&q=apple11&store=tyy%2F4io&srno=s_1_7&otracker=search&fm=organic&iid=54380175-e745-4a6c-903f-ec8b75e88663.MOBFWQ6BHPMG29QM.SEARCH&ppt=None&ppn=None&ssid=3ybp6wqqvk0000001677050279003&qH=05f90d7e1fe7b72c\n",
      "https://www.flipkart.com/apple-iphone-11-pro-max-space-grey-64-gb/p/itme0101031155f8?pid=MOBFKCTSKDMKCGQS&lid=LSTMOBFKCTSKDMKCGQS40HFWI&marketplace=FLIPKART&q=apple11&store=tyy%2F4io&srno=s_1_8&otracker=search&fm=organic&iid=54380175-e745-4a6c-903f-ec8b75e88663.MOBFKCTSKDMKCGQS.SEARCH&ppt=None&ppn=None&ssid=3ybp6wqqvk0000001677050279003&qH=05f90d7e1fe7b72c\n",
      "https://www.flipkart.com/apple-iphone-11-pro-max-midnight-green-64-gb/p/itmab1763b5ca244?pid=MOBFKCTSRYPAQNYT&lid=LSTMOBFKCTSRYPAQNYTHKCI74&marketplace=FLIPKART&q=apple11&store=tyy%2F4io&srno=s_1_9&otracker=search&fm=organic&iid=54380175-e745-4a6c-903f-ec8b75e88663.MOBFKCTSRYPAQNYT.SEARCH&ppt=None&ppn=None&ssid=3ybp6wqqvk0000001677050279003&qH=05f90d7e1fe7b72c\n",
      "https://www.flipkart.com/apple-iphone-11-yellow-64-gb/p/itm39b1a0ba9ddcb?pid=MOBFWQ6BWGX9VRFS&lid=LSTMOBFWQ6BWGX9VRFSWACBGI&marketplace=FLIPKART&q=apple11&store=tyy%2F4io&srno=s_1_10&otracker=search&fm=organic&iid=54380175-e745-4a6c-903f-ec8b75e88663.MOBFWQ6BWGX9VRFS.SEARCH&ppt=None&ppn=None&ssid=3ybp6wqqvk0000001677050279003&qH=05f90d7e1fe7b72c\n",
      "https://www.flipkart.com/apple-iphone-11-pro-midnight-green-64-gb/p/itm471de0d2e8474?pid=MOBFKCTSN3TG3RFJ&lid=LSTMOBFKCTSN3TG3RFJ5P8RRW&marketplace=FLIPKART&q=apple11&store=tyy%2F4io&srno=s_1_11&otracker=search&fm=organic&iid=54380175-e745-4a6c-903f-ec8b75e88663.MOBFKCTSN3TG3RFJ.SEARCH&ppt=None&ppn=None&ssid=3ybp6wqqvk0000001677050279003&qH=05f90d7e1fe7b72c\n",
      "https://www.flipkart.com/apple-iphone-11-purple-64-gb/p/itm2b8d03427ddac?pid=MOBFWQ6BTFFJKGKE&lid=LSTMOBFWQ6BTFFJKGKEPGQVOJ&marketplace=FLIPKART&q=apple11&store=tyy%2F4io&srno=s_1_12&otracker=search&fm=organic&iid=54380175-e745-4a6c-903f-ec8b75e88663.MOBFWQ6BTFFJKGKE.SEARCH&ppt=None&ppn=None&ssid=3ybp6wqqvk0000001677050279003&qH=05f90d7e1fe7b72c\n",
      "https://www.flipkart.com/apple-iphone-6-space-grey-16-gb/p/itmefjg7mzcwjyhk?pid=MOBEYHZ2YAXZMF2J&lid=LSTMOBEYHZ2YAXZMF2JEVWVNC&marketplace=FLIPKART&q=apple11&store=tyy%2F4io&srno=s_1_13&otracker=search&fm=organic&iid=54380175-e745-4a6c-903f-ec8b75e88663.MOBEYHZ2YAXZMF2J.SEARCH&ppt=None&ppn=None&ssid=3ybp6wqqvk0000001677050279003&qH=05f90d7e1fe7b72c\n",
      "https://www.flipkart.com/apple-iphone-6-gold-32-gb/p/itmewxhuufbzchrn?pid=MOBEWXHUSBXVJ7NZ&lid=LSTMOBEWXHUSBXVJ7NZVRFXNL&marketplace=FLIPKART&q=apple11&store=tyy%2F4io&srno=s_1_14&otracker=search&fm=organic&iid=54380175-e745-4a6c-903f-ec8b75e88663.MOBEWXHUSBXVJ7NZ.SEARCH&ppt=None&ppn=None&ssid=3ybp6wqqvk0000001677050279003&qH=05f90d7e1fe7b72c\n",
      "https://www.flipkart.com/apple-iphone-6-space-grey-32-gb/p/itmetmh3hfhnxtcj?pid=MOBETMH3ZYNDPVVC&lid=LSTMOBETMH3ZYNDPVVC7BAC1S&marketplace=FLIPKART&q=apple11&store=tyy%2F4io&srno=s_1_15&otracker=search&fm=organic&iid=54380175-e745-4a6c-903f-ec8b75e88663.MOBETMH3ZYNDPVVC.SEARCH&ppt=None&ppn=None&ssid=3ybp6wqqvk0000001677050279003&qH=05f90d7e1fe7b72c\n",
      "https://www.flipkart.com/apple-iphone-11-pro-max-gold-64-gb/p/itm6ef18218efdf6?pid=MOBFKCTSAPAYNSGG&lid=LSTMOBFKCTSAPAYNSGGKWDGRM&marketplace=FLIPKART&q=apple11&store=tyy%2F4io&srno=s_1_16&otracker=search&fm=organic&iid=54380175-e745-4a6c-903f-ec8b75e88663.MOBFKCTSAPAYNSGG.SEARCH&ppt=None&ppn=None&ssid=3ybp6wqqvk0000001677050279003&qH=05f90d7e1fe7b72c\n",
      "https://www.flipkart.com/apple-iphone-11-pro-silver-256-gb/p/itm08eae2709cac6?pid=MOBFKCTST7PU7BWR&lid=LSTMOBFKCTST7PU7BWRAQB29Z&marketplace=FLIPKART&q=apple11&store=tyy%2F4io&srno=s_1_17&otracker=search&fm=organic&iid=54380175-e745-4a6c-903f-ec8b75e88663.MOBFKCTST7PU7BWR.SEARCH&ppt=None&ppn=None&ssid=3ybp6wqqvk0000001677050279003&qH=05f90d7e1fe7b72c\n",
      "https://www.flipkart.com/apple-iphone-11-yellow-128-gb/p/itm7030edc9e100e?pid=MOBFWQ6BWTSBJSHY&lid=LSTMOBFWQ6BWTSBJSHYJG1Q5J&marketplace=FLIPKART&q=apple11&store=tyy%2F4io&srno=s_1_18&otracker=search&fm=organic&iid=54380175-e745-4a6c-903f-ec8b75e88663.MOBFWQ6BWTSBJSHY.SEARCH&ppt=None&ppn=None&ssid=3ybp6wqqvk0000001677050279003&qH=05f90d7e1fe7b72c\n",
      "https://www.flipkart.com/apple-iphone-11-green-128-gb/p/itm97529bbf640ca?pid=MOBFWQ6BHBKMH4BF&lid=LSTMOBFWQ6BHBKMH4BFPOHIFL&marketplace=FLIPKART&q=apple11&store=tyy%2F4io&srno=s_1_19&otracker=search&fm=organic&iid=54380175-e745-4a6c-903f-ec8b75e88663.MOBFWQ6BHBKMH4BF.SEARCH&ppt=None&ppn=None&ssid=3ybp6wqqvk0000001677050279003&qH=05f90d7e1fe7b72c\n",
      "https://www.flipkart.com/apple-iphone-11-purple-128-gb/p/itmb7ca0b05522ff?pid=MOBFWQ6BEHFXGXGB&lid=LSTMOBFWQ6BEHFXGXGBIS2J2K&marketplace=FLIPKART&q=apple11&store=tyy%2F4io&srno=s_1_20&otracker=search&fm=organic&iid=54380175-e745-4a6c-903f-ec8b75e88663.MOBFWQ6BEHFXGXGB.SEARCH&ppt=None&ppn=None&ssid=3ybp6wqqvk0000001677050279003&qH=05f90d7e1fe7b72c\n",
      "https://www.flipkart.com/apple-iphone-11-pro-gold-256-gb/p/itm2f0572b22cfc6?pid=MOBFKCTS8EGRZSAN&lid=LSTMOBFKCTS8EGRZSANWZFTRD&marketplace=FLIPKART&q=apple11&store=tyy%2F4io&srno=s_1_21&otracker=search&fm=organic&iid=54380175-e745-4a6c-903f-ec8b75e88663.MOBFKCTS8EGRZSAN.SEARCH&ppt=None&ppn=None&ssid=3ybp6wqqvk0000001677050279003&qH=05f90d7e1fe7b72c\n",
      "https://www.flipkart.com/apple-iphone-11-pro-max-silver-256-gb/p/itm90a95d4c7bfb4?pid=MOBFKCTSVH4EWXBV&lid=LSTMOBFKCTSVH4EWXBVDOFYMD&marketplace=FLIPKART&q=apple11&store=tyy%2F4io&srno=s_1_22&otracker=search&fm=organic&iid=54380175-e745-4a6c-903f-ec8b75e88663.MOBFKCTSVH4EWXBV.SEARCH&ppt=None&ppn=None&ssid=3ybp6wqqvk0000001677050279003&qH=05f90d7e1fe7b72c\n",
      "https://www.flipkart.com/apple-iphone-11-pro-space-grey-256-gb/p/itmbecef22a95790?pid=MOBFKCTSWGYSAS9X&lid=LSTMOBFKCTSWGYSAS9X2RHASU&marketplace=FLIPKART&q=apple11&store=tyy%2F4io&srno=s_1_23&otracker=search&fm=organic&iid=54380175-e745-4a6c-903f-ec8b75e88663.MOBFKCTSWGYSAS9X.SEARCH&ppt=None&ppn=None&ssid=3ybp6wqqvk0000001677050279003&qH=05f90d7e1fe7b72c\n",
      "https://www.flipkart.com/apple-iphone-11-pro-max-silver-512-gb/p/itmd4aeaf1585645?pid=MOBFKCTSGQWSAKDG&lid=LSTMOBFKCTSGQWSAKDGBKDFSB&marketplace=FLIPKART&q=apple11&store=tyy%2F4io&srno=s_1_24&otracker=search&fm=organic&iid=54380175-e745-4a6c-903f-ec8b75e88663.MOBFKCTSGQWSAKDG.SEARCH&ppt=None&ppn=None&ssid=3ybp6wqqvk0000001677050279003&qH=05f90d7e1fe7b72c\n"
     ]
    },
    {
     "ename": "AttributeError",
     "evalue": "'NoneType' object has no attribute 'a'",
     "output_type": "error",
     "traceback": [
      "\u001b[0;31m---------------------------------------------------------------------------\u001b[0m",
      "\u001b[0;31mAttributeError\u001b[0m                            Traceback (most recent call last)",
      "Cell \u001b[0;32mIn[33], line 2\u001b[0m\n\u001b[1;32m      1\u001b[0m \u001b[38;5;28;01mfor\u001b[39;00m i \u001b[38;5;129;01min\u001b[39;00m bigbox:\n\u001b[0;32m----> 2\u001b[0m     \u001b[38;5;28mprint\u001b[39m(\u001b[38;5;124m\"\u001b[39m\u001b[38;5;124mhttps://www.flipkart.com\u001b[39m\u001b[38;5;124m\"\u001b[39m \u001b[38;5;241m+\u001b[39m\u001b[43mi\u001b[49m\u001b[38;5;241;43m.\u001b[39;49m\u001b[43mdiv\u001b[49m\u001b[38;5;241;43m.\u001b[39;49m\u001b[43mdiv\u001b[49m\u001b[38;5;241;43m.\u001b[39;49m\u001b[43mdiv\u001b[49m\u001b[38;5;241;43m.\u001b[39;49m\u001b[43ma\u001b[49m[\u001b[38;5;124m'\u001b[39m\u001b[38;5;124mhref\u001b[39m\u001b[38;5;124m'\u001b[39m])\n",
      "\u001b[0;31mAttributeError\u001b[0m: 'NoneType' object has no attribute 'a'"
     ]
    }
   ],
   "source": [
    "for i in bigbox:\n",
    "    print(\"https://www.flipkart.com\" +i.div.div.div.a['href'])"
   ]
  },
  {
   "cell_type": "code",
   "execution_count": 76,
   "id": "d5b256b0-b8cd-46e9-9842-dad007074ddd",
   "metadata": {},
   "outputs": [],
   "source": [
    "l=23"
   ]
  },
  {
   "cell_type": "code",
   "execution_count": 77,
   "id": "3344958e-8683-40f6-af70-e310d69c4332",
   "metadata": {},
   "outputs": [
    {
     "data": {
      "text/plain": [
       "23"
      ]
     },
     "execution_count": 77,
     "metadata": {},
     "output_type": "execute_result"
    }
   ],
   "source": [
    "l"
   ]
  },
  {
   "cell_type": "code",
   "execution_count": null,
   "id": "760affd5-a59b-40e4-9c89-875497efaa70",
   "metadata": {},
   "outputs": [],
   "source": []
  }
 ],
 "metadata": {
  "kernelspec": {
   "display_name": "Python 3 (ipykernel)",
   "language": "python",
   "name": "python3"
  },
  "language_info": {
   "codemirror_mode": {
    "name": "ipython",
    "version": 3
   },
   "file_extension": ".py",
   "mimetype": "text/x-python",
   "name": "python",
   "nbconvert_exporter": "python",
   "pygments_lexer": "ipython3",
   "version": "3.10.8"
  }
 },
 "nbformat": 4,
 "nbformat_minor": 5
}
